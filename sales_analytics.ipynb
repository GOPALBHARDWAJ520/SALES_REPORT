{
  "cells": [
    {
      "cell_type": "code",
      "execution_count": 13,
      "metadata": {},
      "outputs": [
        {
          "name": "stderr",
          "output_type": "stream",
          "text": [
            "C:\\Users\\91935\\AppData\\Local\\Temp\\ipykernel_7936\\3830892298.py:64: FutureWarning: \n",
            "\n",
            "Passing `palette` without assigning `hue` is deprecated and will be removed in v0.14.0. Assign the `x` variable to `hue` and set `legend=False` for the same effect.\n",
            "\n",
            "  sns.boxplot(x='Product', y='Price', data=df, palette='pastel')\n"
          ]
        }
      ],
      "source": [
        "# Import necessary libraries\n",
        "import pandas as pd                    # For data manipulation and analysis\n",
        "import matplotlib.pyplot as plt        # For plotting basic visualizations\n",
        "import seaborn as sns                  # For advanced visualizations\n",
        "\n",
        "# Step 1: Load the dataset\n",
        "df = pd.read_csv(\"dataset  sales.csv\")   # Load data from CSV into a DataFrame\n",
        "\n",
        "# Step 2: Convert 'Date' column to datetime format for time-based analysis\n",
        "df['Date'] = pd.to_datetime(df['Date'])\n",
        "\n",
        "# Step 3: Create a new column 'Total' which is Quantity * Price\n",
        "df['Total'] = df['Quantity'] * df['Price']\n",
        "\n",
        "# Step 4: Analyze total sales by product\n",
        "product_sales = df.groupby('Product')['Total'].sum().sort_values(ascending=False)\n",
        "# Group by 'Product', sum the 'Total' column, then sort in descending order\n",
        "\n",
        "# Plot total sales by product\n",
        "plt.figure(figsize=(8, 4))                          # Set the figure size\n",
        "product_sales.plot(kind='bar', color='skyblue')     # Create a bar plot\n",
        "plt.title('Total Sales by Product')                 # Set plot title\n",
        "plt.ylabel(\"Sales Total\")                           # Set y-axis label\n",
        "plt.tight_layout()                                  # Adjust layout\n",
        "plt.savefig(\"total_sales_by_product.png\")           # Save plot as PNG\n",
        "plt.close()                                         # Close plot to free memory\n",
        "\n",
        "# Step 5: Analyze total sales by region\n",
        "region_sales = df.groupby('Region')['Total'].sum().sort_values(ascending=False)\n",
        "\n",
        "# Plot total sales by region\n",
        "plt.figure(figsize=(8, 4))\n",
        "region_sales.plot(kind='bar', color='salmon')\n",
        "plt.title('Total Sales by Region')\n",
        "plt.ylabel(\"Sales Total\")\n",
        "plt.tight_layout()\n",
        "plt.savefig(\"total_sales_by_region.png\")\n",
        "plt.close()\n",
        "\n",
        "# Step 6: Analyze daily sales trend\n",
        "daily_sales = df.groupby('Date')['Total'].sum()     # Group by date and sum total sales\n",
        "\n",
        "# Plot daily sales\n",
        "plt.figure(figsize=(10, 5))\n",
        "daily_sales.plot(color='green')\n",
        "plt.title('Daily Total Sales')\n",
        "plt.xlabel(\"Date\")\n",
        "plt.ylabel(\"Total Sales\")\n",
        "plt.tight_layout()\n",
        "plt.savefig(\"daily_sales_trend.png\")\n",
        "plt.close()\n",
        "\n",
        "# Step 7: Create correlation heatmap for Quantity, Price, and Total\n",
        "plt.figure(figsize=(6, 4))\n",
        "sns.heatmap(df[['Quantity', 'Price', 'Total']].corr(), annot=True, cmap='coolwarm')\n",
        "# Compute correlation matrix, display with annotations, use a color map\n",
        "plt.title(\"Correlation Heatmap\")\n",
        "plt.tight_layout()\n",
        "plt.savefig(\"correlation_heatmap.png\")\n",
        "plt.close()\n",
        "\n",
        "# Step 8: Boxplot of Price distribution by Product\n",
        "plt.figure(figsize=(8, 5))\n",
        "sns.boxplot(x='Product', y='Price', data=df, palette='pastel')\n",
        "# Show how prices are distributed for each product\n",
        "plt.title(\"Price Distribution by Product\")\n",
        "plt.tight_layout()\n",
        "plt.savefig(\"price_distribution_by_product.png\")\n",
        "plt.close()\n"
      ]
    }
  ],
  "metadata": {
    "colab": {
      "provenance": [],
      "toc_visible": true
    },
    "kernelspec": {
      "display_name": ".venv",
      "language": "python",
      "name": "python3"
    },
    "language_info": {
      "codemirror_mode": {
        "name": "ipython",
        "version": 3
      },
      "file_extension": ".py",
      "mimetype": "text/x-python",
      "name": "python",
      "nbconvert_exporter": "python",
      "pygments_lexer": "ipython3",
      "version": "3.13.3"
    }
  },
  "nbformat": 4,
  "nbformat_minor": 0
}
